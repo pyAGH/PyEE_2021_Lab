{
 "cells": [
  {
   "cell_type": "code",
   "execution_count": null,
   "id": "025207a0-812e-41a5-88e3-932e1e4ea903",
   "metadata": {},
   "outputs": [],
   "source": []
  },
  {
   "cell_type": "code",
   "execution_count": null,
   "id": "8139a400-69ea-473f-b4f4-0e45109e6f41",
   "metadata": {},
   "outputs": [],
   "source": []
  },
  {
   "cell_type": "code",
   "execution_count": null,
   "id": "03947dd9-272b-4ce5-b5d4-d31c1a0cd5d2",
   "metadata": {},
   "outputs": [],
   "source": []
  },
  {
   "cell_type": "markdown",
   "id": "9d508f53-5968-4842-8287-0c731f526548",
   "metadata": {},
   "source": [
    "### PART 1\n",
    "### PEP 8 -- Style Guide for Python Code"
   ]
  },
  {
   "cell_type": "code",
   "execution_count": 23,
   "id": "9ed74bb6-6f10-449a-9eff-ed27b487df99",
   "metadata": {},
   "outputs": [
    {
     "name": "stdout",
     "output_type": "stream",
     "text": [
      "The total price after discount is EUR 83.52\n"
     ]
    }
   ],
   "source": [
    "# Reformat the following code to be aligned with PEP 8 \n",
    "\"\"\" 1.1 Naming variables and constants \"\"\"\n",
    "\n",
    "#There are four variables that hold the EUR prices of the following products: eggs, potatoes, mushrooms and meat:\n",
    "O = 45\n",
    "l = 12\n",
    "MyVariable = 9\n",
    "Flower = 30\n",
    "\n",
    "#and one constant that stores the discount level:\n",
    "discount = 87 # percentage value\n",
    "\n",
    "# Then the total price (including discount) is calculated and printed out:\n",
    "x = (O + l + MyVariable + Flower) * discount/100\n",
    "print(f'The total price after discount is EUR {x}')"
   ]
  },
  {
   "cell_type": "code",
   "execution_count": null,
   "id": "3f5dabb4-ef8e-4a3f-b541-1504c4b0de91",
   "metadata": {},
   "outputs": [],
   "source": [
    "# Reformat the following code to be aligned with PEP 8 \n",
    "\"\"\" 1.2 Naming functions \"\"\"\n",
    "\n",
    "# There is a declaration of function that checks if a given number is prime:\n",
    "def Xfunction(number):\n",
    "    flag = False\n",
    "    if number > 1:\n",
    "        for i in range(2, number):\n",
    "            if (number % i) == 0:\n",
    "                flag = True\n",
    "                break\n",
    "    if flag:\n",
    "        print(number, \"is not a prime number\")\n",
    "    else:\n",
    "        print(number, \"is a prime number\")\n",
    "\n",
    "# Example function call\n",
    "Xfunction(51)"
   ]
  },
  {
   "cell_type": "code",
   "execution_count": 25,
   "id": "9e2d5308-5938-4a82-97fe-c27e50d42b46",
   "metadata": {},
   "outputs": [
    {
     "ename": "IndentationError",
     "evalue": "expected an indented block (<ipython-input-25-f6f9b0abdc6e>, line 12)",
     "output_type": "error",
     "traceback": [
      "\u001b[0;36m  File \u001b[0;32m\"<ipython-input-25-f6f9b0abdc6e>\"\u001b[0;36m, line \u001b[0;32m12\u001b[0m\n\u001b[0;31m    for j in range(0,len(random_list)):\u001b[0m\n\u001b[0m    ^\u001b[0m\n\u001b[0;31mIndentationError\u001b[0m\u001b[0;31m:\u001b[0m expected an indented block\n"
     ]
    }
   ],
   "source": [
    "# Reformat the following code to work and to be aligned with PEP 8 \n",
    "\"\"\" 1.3 Indentation, comments, whitespaces around assignment operators and comparisons \"\"\"\n",
    "\n",
    "import numpy as np\n",
    "\n",
    "random_list=np.random.randint(100, size=(10, 10))          #             This is a 10x10      list     of random numbers. Find the location (row, column) and the value of its maximum element  \n",
    "\n",
    "value_max=0         #Inicjalisation of variable which will store the maximum value\n",
    "i_max=0\n",
    "j_max=0#ThisVariableStoresJIndex\n",
    "for i in range(0,len(random_list)):\n",
    "for j in range(0,len(random_list)):\n",
    "if random_list[i,j]>value_max:\n",
    "value_max=random_list[i,j]\n",
    "i_max=i\n",
    "j_max=j\n",
    "print(f'List of random elements: \\n {random_list}')            \n",
    "print(f'Maximum element {value_max} is located at {i_max},{j_max}')  "
   ]
  },
  {
   "cell_type": "code",
   "execution_count": null,
   "id": "4871ca3b-deb6-4980-876f-90eb3b358480",
   "metadata": {},
   "outputs": [],
   "source": []
  }
 ],
 "metadata": {
  "kernelspec": {
   "display_name": "Python 3",
   "language": "python",
   "name": "python3"
  },
  "language_info": {
   "codemirror_mode": {
    "name": "ipython",
    "version": 3
   },
   "file_extension": ".py",
   "mimetype": "text/x-python",
   "name": "python",
   "nbconvert_exporter": "python",
   "pygments_lexer": "ipython3",
   "version": "3.8.8"
  }
 },
 "nbformat": 4,
 "nbformat_minor": 5
}
