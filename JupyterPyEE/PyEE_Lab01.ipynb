{
 "cells": [
  {
   "cell_type": "code",
   "execution_count": null,
   "id": "025207a0-812e-41a5-88e3-932e1e4ea903",
   "metadata": {},
   "outputs": [],
   "source": []
  },
  {
   "cell_type": "code",
   "execution_count": null,
   "id": "8139a400-69ea-473f-b4f4-0e45109e6f41",
   "metadata": {},
   "outputs": [],
   "source": []
  },
  {
   "cell_type": "code",
   "execution_count": null,
   "id": "03947dd9-272b-4ce5-b5d4-d31c1a0cd5d2",
   "metadata": {},
   "outputs": [],
   "source": []
  },
  {
   "cell_type": "markdown",
   "id": "9d508f53-5968-4842-8287-0c731f526548",
   "metadata": {},
   "source": [
    "### MODULE 1\n",
    "### PEP -- 8 Style Guide for Python Code"
   ]
  },
  {
   "cell_type": "code",
   "execution_count": 23,
   "id": "9ed74bb6-6f10-449a-9eff-ed27b487df99",
   "metadata": {},
   "outputs": [
    {
     "name": "stdout",
     "output_type": "stream",
     "text": [
      "The total price after discount is EUR 83.52\n"
     ]
    }
   ],
   "source": [
    "# Reformat the following code to be aligned with PEP 8 \n",
    "\"\"\" 1.1 Naming variables and constants (at least 6 improvements needed)\"\"\"\n",
    "\n",
    "#There four variables that hold the EUR prices of the following products: eggs, potatoes, mushrooms and meat:\n",
    "O = 45\n",
    "l = 12\n",
    "MyVariable = 9\n",
    "Flower = 30\n",
    "\n",
    "#and one constant that stores the discount level:\n",
    "discount = 87 # percentage value\n",
    "\n",
    "# Then the total price (including discount) is calculated and printed out:\n",
    "x = (O + l + MyVariable + Flower) * discount/100\n",
    "print(f'The total price after discount is EUR {x}')\n",
    "\n"
   ]
  },
  {
   "cell_type": "code",
   "execution_count": 27,
   "id": "3f5dabb4-ef8e-4a3f-b541-1504c4b0de91",
   "metadata": {},
   "outputs": [
    {
     "name": "stdout",
     "output_type": "stream",
     "text": [
      "51 is not a prime number\n"
     ]
    }
   ],
   "source": [
    "# Reformat the following code to be aligned with PEP 8 \n",
    "\"\"\" 1.2 Naming functions (at least 3 improvements needed) \"\"\"\n",
    "\n",
    "# There is a declaration of function that checks if a given number is prime:\n",
    "def Xfunction(number):\n",
    "    flag = False\n",
    "    if number > 1:\n",
    "        for i in range(2, number):\n",
    "            if (number % i) == 0:\n",
    "                flag = True\n",
    "                break\n",
    "    if flag:\n",
    "        print(number, \"is not a prime number\")\n",
    "    else:\n",
    "        print(number, \"is a prime number\")\n",
    "\n",
    "# Example function call\n",
    "Xfunction(51)"
   ]
  },
  {
   "cell_type": "code",
   "execution_count": null,
   "id": "fa0033d2-f0c2-4f42-8be5-95302a565364",
   "metadata": {},
   "outputs": [],
   "source": []
  }
 ],
 "metadata": {
  "kernelspec": {
   "display_name": "Python 3",
   "language": "python",
   "name": "python3"
  },
  "language_info": {
   "codemirror_mode": {
    "name": "ipython",
    "version": 3
   },
   "file_extension": ".py",
   "mimetype": "text/x-python",
   "name": "python",
   "nbconvert_exporter": "python",
   "pygments_lexer": "ipython3",
   "version": "3.8.8"
  }
 },
 "nbformat": 4,
 "nbformat_minor": 5
}
