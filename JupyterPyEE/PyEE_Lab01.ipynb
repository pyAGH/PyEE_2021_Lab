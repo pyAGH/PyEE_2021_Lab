{
 "cells": [
  {
   "cell_type": "markdown",
   "id": "77d18bc2-13c1-495e-8aad-ddbf8e611c19",
   "metadata": {},
   "source": [
    "## AGH University\n",
    "## Python in Electrical Engineering - Autumn 2021\n",
    "## Laboratory classes no 1 - Python 3 programming excercises\n",
    "\n",
    "#### Class date: 21 OCT 2021\n",
    "#### Assignment return date: 26 OCT 2021"
   ]
  },
  {
   "cell_type": "markdown",
   "id": "ab5e95eb-cb34-4430-be13-94286c5860b6",
   "metadata": {},
   "source": [
    "List of students:\n",
    "1. \n",
    "2.\n",
    "3. \n",
    "\n"
   ]
  },
  {
   "cell_type": "markdown",
   "id": "9d508f53-5968-4842-8287-0c731f526548",
   "metadata": {},
   "source": [
    "### <font color='blue'>PART 1</font>\n",
    "### <font color='blue'>PEP 8 -- Style Guide for Python Code</font>\n",
    "\n",
    "https://www.python.org/dev/peps/pep-0008/"
   ]
  },
  {
   "cell_type": "markdown",
   "id": "4584100f-968a-4b5a-8dfb-cd36380f1268",
   "metadata": {},
   "source": [
    "#### 1.1 Reformat the following code to be aligned with PEP 8 - Naming variables and constants"
   ]
  },
  {
   "cell_type": "code",
   "execution_count": null,
   "id": "9ed74bb6-6f10-449a-9eff-ed27b487df99",
   "metadata": {},
   "outputs": [],
   "source": [
    "# There are four variables that hold the EUR prices of the following products: eggs, potatoes, mushrooms and meat:\n",
    "O = 45\n",
    "l = 12\n",
    "MyVariable = 9\n",
    "Flower = 30\n",
    "\n",
    "# and one constant that stores the discount level:\n",
    "discount = 87 # percentage value\n",
    "\n",
    "# Then the total price (including discount) is calculated and printed out:\n",
    "x = (O + l + MyVariable + Flower) * discount/100\n",
    "print(f'The total price after discount is EUR {x}')"
   ]
  },
  {
   "cell_type": "markdown",
   "id": "721767dc-82fc-47cb-9ad8-38d999a5ecbe",
   "metadata": {},
   "source": [
    "#### 1.2 Reformat the following code to be aligned with PEP 8 - Naming functions"
   ]
  },
  {
   "cell_type": "code",
   "execution_count": null,
   "id": "3f5dabb4-ef8e-4a3f-b541-1504c4b0de91",
   "metadata": {},
   "outputs": [],
   "source": [
    "# There is a declaration of function that checks if a given number is prime:\n",
    "def Xfunction(number):\n",
    "    flag = False\n",
    "    if number > 1:\n",
    "        for i in range(2, number):\n",
    "            if (number % i) == 0:\n",
    "                flag = True\n",
    "                break\n",
    "    if flag:\n",
    "        print(number, \"is not a prime number\")\n",
    "    else:\n",
    "        print(number, \"is a prime number\")\n",
    "\n",
    "# Example function call\n",
    "Xfunction(51)"
   ]
  },
  {
   "cell_type": "markdown",
   "id": "a0633e4f-27e9-4968-a23a-dd4fa14f08b6",
   "metadata": {},
   "source": [
    "#### 1.3 Reformat the following code to work and to be aligned with PEP 8 - Indentation, comments, whitespaces around assignment operators and comparisons"
   ]
  },
  {
   "cell_type": "code",
   "execution_count": null,
   "id": "9e2d5308-5938-4a82-97fe-c27e50d42b46",
   "metadata": {},
   "outputs": [],
   "source": [
    "import numpy as np\n",
    "\n",
    "random_list=np.random.randint(100, size=(10, 10))          #             This is a 10x10      list     of random numbers. Find the location (row, column) and the value of its maximum element  \n",
    "\n",
    "value_max=0         #Inicjalisation of variable which will store the maximum value\n",
    "i_max=0\n",
    "j_max=0#ThisVariableStoresJIndex\n",
    "for i in range(0,len(random_list)):\n",
    "for j in range(0,len(random_list)):\n",
    "if random_list[i,j]>value_max:\n",
    "value_max=random_list[i,j]\n",
    "i_max=i\n",
    "j_max=j\n",
    "print(f'List of random elements: \\n {random_list}')            \n",
    "print(f'Maximum element {value_max} is located at {i_max},{j_max}')  "
   ]
  },
  {
   "cell_type": "markdown",
   "id": "b97c9bdb-8889-46ef-b08c-e9d1424bc009",
   "metadata": {},
   "source": [
    "### <font color='blue'>PART 2</font>\n",
    "### <font color='blue'>Built-in variables in Python</font>"
   ]
  },
  {
   "cell_type": "markdown",
   "id": "2513bd59-c8d4-49b2-a017-ee55a43ab60b",
   "metadata": {},
   "source": [
    "#### 2.1 Write program to reverse words in a given string"
   ]
  },
  {
   "cell_type": "code",
   "execution_count": null,
   "id": "8b30b864-8452-4212-b691-7d7fab36cea9",
   "metadata": {},
   "outputs": [],
   "source": [
    "text = input(\"Enter text: \")\n",
    "\n",
    "# Write your code here:\n",
    "#\n",
    "#\n",
    "#\n",
    "#"
   ]
  },
  {
   "cell_type": "markdown",
   "id": "8b4aed23-501d-4a6f-9ea7-a6741510738e",
   "metadata": {},
   "source": [
    "#### 2.2 Write program that returns a tuple with repeated elements in a given list of numbers and strings"
   ]
  },
  {
   "cell_type": "code",
   "execution_count": null,
   "id": "54f88685-a6e2-4354-8742-c8869c281140",
   "metadata": {},
   "outputs": [],
   "source": [
    "# Write your code here:\n",
    "#\n",
    "#\n",
    "#\n",
    "#"
   ]
  },
  {
   "cell_type": "markdown",
   "id": "d0e2e01e-6973-45d4-998c-06eea6a081d7",
   "metadata": {},
   "source": [
    "#### 2.3 Compare the size and the processing speed between Python lists and Numpy nd.arrays  for different dataset_size (from 1 to 10e7) and two mathematical operations: \n",
    "- adding scalar\n",
    "- dot product"
   ]
  },
  {
   "cell_type": "code",
   "execution_count": null,
   "id": "ac17eb2e-d395-4ef3-ba3d-9c756ba1ed0e",
   "metadata": {},
   "outputs": [],
   "source": [
    "import numpy as np\n",
    "import random\n",
    "import sys\n",
    "import time\n",
    "\n",
    "########################################\n",
    "# Creating [1xdata_set] variables with exactly the same content (int numbers)\n",
    "\n",
    "dataset_size = 1 # Value to be modified\n",
    "my_list = []\n",
    "for i in range(0,dataset_size):\n",
    "    random_number = random.randint(0,100)\n",
    "    my_list.append(random_number)\n",
    "\n",
    "my_tuple = tuple(my_list)\n",
    "my_ndarray = np.array(my_list)\n",
    "print(type(my_list), sys.getsizeof(my_list),\"bytes\")\n",
    "print(type(my_tuple), sys.getsizeof(my_tuple),\"bytes\")\n",
    "print(type(my_ndarray), sys.getsizeof(my_ndarray),\"bytes\")\n",
    "print()\n",
    "########################################\n",
    "\n",
    "\n",
    "########################################\n",
    "# Adding scalar\n",
    "print(\"Adding scalar:\")\n",
    "\n",
    "scalar = 123\n",
    "start = time.process_time()\n",
    "for i in range(0,len(my_list)):\n",
    "    my_list[i] += scalar\n",
    "end = time.process_time()\n",
    "print(\"list:\",round((end - start) * 1000,6), \"ms\")\n",
    "\n",
    "\n",
    "scalar = 123\n",
    "start = time.process_time()\n",
    "my_ndarray += scalar\n",
    "end = time.process_time()\n",
    "print(\"nd.array:\" ,round((end - start) * 1000,6), \"ms\")\n",
    "print()\n",
    "########################################\n",
    "\n",
    "\n",
    "########################################\n",
    "# Dot product of two wectors. This is one of the most important calculations in machine learning.\n",
    "print(\"Dot product:\")\n",
    "\n",
    "sum = 0\n",
    "start = time.process_time()\n",
    "for i in range(0,len(my_list)):\n",
    "    sum += my_list[i] * my_list[i]\n",
    "end = time.process_time()\n",
    "print(\"list:\",round((end - start) * 1000,6), \"ms\")\n",
    "\n",
    "sum = 0\n",
    "start = time.process_time()\n",
    "for i in range(0,len(my_tuple)):\n",
    "    sum += my_tuple[i] * my_tuple[i]\n",
    "end = time.process_time()\n",
    "print(\"tuple:\",round((end - start) * 1000,6), \"ms\")\n",
    "\n",
    "sum = 0\n",
    "start = time.process_time()\n",
    "np.dot(my_ndarray,my_ndarray)\n",
    "end = time.process_time()\n",
    "print(\"nd.array:\",round((end - start) * 1000,6), \"ms\")\n",
    "########################################\n",
    "\n",
    "\n",
    "# Write your results and comments here. Explain noticed time differences. \n",
    "#\n",
    "#\n",
    "#\n",
    "#"
   ]
  },
  {
   "cell_type": "markdown",
   "id": "200caed9-b7a0-430e-8397-1d626e51c2b3",
   "metadata": {},
   "source": [
    "#### 2.4 Create a dictionary where keys are the unique values of a given list and values are their frequencies in a given list"
   ]
  },
  {
   "cell_type": "code",
   "execution_count": null,
   "id": "813fa230-1e26-4b24-839a-4cdb8e60501f",
   "metadata": {},
   "outputs": [],
   "source": [
    "# Write your code here:\n",
    "#\n",
    "#\n",
    "#\n",
    "#"
   ]
  },
  {
   "cell_type": "markdown",
   "id": "7a4f7438-d918-4449-a1a0-586a88de5d83",
   "metadata": {},
   "source": [
    "#### 2.5 Estimate and compare the Big O notation for a membership test in lists, tuples, ndarrays and sets\n",
    "https://www.freecodecamp.org/news/big-o-notation-why-it-matters-and-why-it-doesnt-1674cfa8a23c/"
   ]
  },
  {
   "cell_type": "code",
   "execution_count": null,
   "id": "8c39e2c4-e35f-4cd7-b6b7-37ba04adf9ef",
   "metadata": {},
   "outputs": [],
   "source": [
    "import numpy as np\n",
    "import random\n",
    "import sys\n",
    "import time\n",
    "\n",
    "########################################\n",
    "# Creating [1xdata_set] variables with exactly the same content (float numbers)\n",
    "\n",
    "dataset_size = 1000000\n",
    "my_list = []\n",
    "for i in range(0,dataset_size):\n",
    "    random_number = random.uniform(0,100)\n",
    "    my_list.append(random_number)\n",
    "\n",
    "my_tuple = tuple(my_list)\n",
    "my_ndarray = np.array(my_list)\n",
    "my_set = set(my_list)\n",
    "\n",
    "print(type(my_list), sys.getsizeof(my_list),\"bytes\")\n",
    "print(type(my_tuple), sys.getsizeof(my_tuple),\"bytes\")\n",
    "print(type(my_ndarray), sys.getsizeof(my_ndarray),\"bytes\")\n",
    "print(type(my_set), sys.getsizeof(my_set),\"bytes\")\n",
    "print()\n",
    "########################################\n",
    "\n",
    "########################################\n",
    "# Example of the membership test in a list\n",
    "start = time.process_time()\n",
    "1 in my_list\n",
    "end = time.process_time()\n",
    "print(\"Membership test time of a list:\",round((end - start) * 1000,6), \"ms\")\n",
    "\n",
    "\n",
    "# Write your code, results and comments here. Explain noticed BigO differences. \n",
    "# You can use matplotlib library for results visualisation\n",
    "#\n",
    "#\n",
    "#\n",
    "#\n"
   ]
  },
  {
   "cell_type": "markdown",
   "id": "a3a4d8cf-72ca-471a-a401-743d9a55ec37",
   "metadata": {},
   "source": [
    "### <font color='blue'>PART 3</font>\n",
    "### <font color='blue'>Conditionals and loops</font>"
   ]
  },
  {
   "cell_type": "markdown",
   "id": "8841f683-d8a5-49bb-b476-058201b84b4e",
   "metadata": {},
   "source": [
    "##### 3.1 Calculate the value of the expression:\n",
    "\n",
    "\n",
    "$$\\sum^{10}_{\\begin{gathered}i=1\\\\ k=1\\\\ i\\neq k\\end{gathered} } i\\cdot k=$$"
   ]
  },
  {
   "cell_type": "code",
   "execution_count": null,
   "id": "6a6333b7-3215-4688-b46a-3815ed61b882",
   "metadata": {},
   "outputs": [],
   "source": [
    "# Write your code here:\n",
    "#\n",
    "#\n",
    "#\n",
    "#"
   ]
  },
  {
   "cell_type": "markdown",
   "id": "89e13f98-68b0-4bbe-a811-5c81eba36313",
   "metadata": {},
   "source": [
    "##### 3.2 Calculate the value of the expression:\n",
    "\n",
    "\n",
    "$$\\sqrt[3]{\\sum^{10}_{i=1} \\prod^{i}_{j=1} cos(\\pi \\cdot i)}= $$"
   ]
  },
  {
   "cell_type": "code",
   "execution_count": null,
   "id": "53c9d419-7a62-4562-b9aa-1a13ad5d02a4",
   "metadata": {},
   "outputs": [],
   "source": [
    "# Write your code here:\n",
    "#\n",
    "#\n",
    "#\n",
    "#"
   ]
  },
  {
   "cell_type": "markdown",
   "id": "33bf40f3-e6fd-47a0-a7af-ba626ceab43e",
   "metadata": {},
   "source": [
    "##### 3.3 Calculate the value of the expression:\n",
    "\n",
    "\n",
    "x= [92, 82, 64, 39, 82, 72, 39, 100, 58, 28, 100, 50, 8, 51, 56, 49, 85, 99, 88, 41]\n",
    "\n",
    "$$\\sqrt{\\frac{1}{n} \\sum^{11}_{0} x[i]}= $$"
   ]
  },
  {
   "cell_type": "code",
   "execution_count": null,
   "id": "c2f50306-4293-4db7-9232-13ba8d9c3eeb",
   "metadata": {},
   "outputs": [],
   "source": [
    "# Write your code here:\n",
    "#\n",
    "#\n",
    "#\n",
    "#"
   ]
  },
  {
   "cell_type": "markdown",
   "id": "bf6d2ee3-7cb0-44cf-ba5c-b670a27b0b17",
   "metadata": {},
   "source": [
    "##### 3.4 Write a program to check the validity of the entered password\n",
    "\n",
    "- Allowed length: from 8 do 16 characters,\n",
    "- At least 1 letter between [a-z], \n",
    "- At least 1 letter between [A-Z],\n",
    "- At least 1 number between [0,9]\n",
    "- At least 1 character from [!@#].\n",
    "\n"
   ]
  },
  {
   "cell_type": "code",
   "execution_count": null,
   "id": "c372690d-d0ab-439f-b713-83466fb66176",
   "metadata": {},
   "outputs": [],
   "source": [
    "pswd = input(\"Enter password: \")\n",
    "\n",
    "# Write your code here:\n",
    "#\n",
    "#\n",
    "#\n",
    "#"
   ]
  },
  {
   "cell_type": "markdown",
   "id": "5d67459c-e615-473c-b25b-19f21db3cc27",
   "metadata": {},
   "source": [
    "##### 3.5 Generate an array [1x32] filled with randomly placed zeros and ones. Then write an algorithm that converts this array to a decimal number using the IEEE 754 standard defining a binary 32-bit floating point number.\n",
    "\n",
    "https://en.wikibooks.org/wiki/A-level_Computing/AQA/Paper_2/Fundamentals_of_data_representation/Floating_point_numbers\n",
    "\n",
    "#### Example 1:\n",
    "\n",
    "Input array:\n",
    " [0 1 0 0 0 0 0 0 1 1 1 0 0 0 0 0 0 0 0 0 0 0 0 0 0 0 0 0 0 0 0 0] \n",
    "\n",
    "Exponent:\n",
    "- Binary:  [1. 0. 0. 0. 0. 0. 0. 1.]\n",
    "\n",
    "- Decimal:  129.0 \n",
    "\n",
    "Mantissa:\n",
    "- Binary: [1. 1. 0. 0. 0. 0. 0. 0. 0. 0. 0. 0. 0. 0. 0. 0. 0. 0. 0. 0. 0. 0. 0.]\n",
    "\n",
    "- Decimal:  0.75 \n",
    "\n",
    "Result (decimal number):  7.0 \n",
    "\n",
    "#### Example 2:\n",
    "\n",
    "Input array:\n",
    " [1. 1. 0. 0. 1. 1. 0. 0. 1. 1. 1. 0. 1. 0. 0. 1. 1. 1. 1. 1. 1. 1. 0. 1.\n",
    " 0. 0. 1. 1. 1. 1. 1. 1.] \n",
    "\n",
    "Exponent:  \n",
    "- Binary: [1. 0. 0. 1. 1. 0. 0. 1.]\n",
    "\n",
    "- Decimal:  153.0 \n",
    "\n",
    "Mantissa:  \n",
    "- Binary: [1. 1. 0. 1. 0. 0. 1. 1. 1. 1. 1. 1. 1. 0. 1. 0. 0. 1. 1. 1. 1. 1. 1.]\n",
    "\n",
    "- Decimal:  0.8280409574508667 \n",
    "\n",
    "Result (decimal number):  -122677752.0 "
   ]
  },
  {
   "cell_type": "code",
   "execution_count": null,
   "id": "37ab7e9f-3559-44d1-bcc3-f59f467dab3f",
   "metadata": {},
   "outputs": [],
   "source": [
    "# Write your code here:\n",
    "#\n",
    "#\n",
    "#\n",
    "#\n",
    "\n",
    "\n",
    "\"\"\"Hint: You can use the bitstring function to verify the correctness of your algorithm.\"\"\"\n",
    "# import bitstring\n",
    "# f1 = bitstring.BitArray(float=wynik, length=32)\n",
    "# print(f1.bin)"
   ]
  },
  {
   "cell_type": "markdown",
   "id": "a6a7290c-1b95-43c7-be4b-3c43625a8b6f",
   "metadata": {},
   "source": [
    "### <font color='blue'>PART 4</font>\n",
    "### <font color='blue'>User functions</font>"
   ]
  },
  {
   "cell_type": "markdown",
   "id": "4937e443-3d99-463d-950e-1a9abb5b38a5",
   "metadata": {},
   "source": [
    "##### 4.1 Write a function that determines the square root of a positive number using the Babylonian method with a given accuracy:\n",
    "\n",
    "$$x_{0}\\approx \\sqrt{S} $$\n",
    "\n",
    "$$x_{n+1}=\\frac{1}{2} (x_{n}+\\frac{S}{x_{n}} )$$\n",
    "\n",
    "$$\\sqrt{S} =\\lim_{n\\rightarrow \\infty } x_{n}$$"
   ]
  },
  {
   "cell_type": "code",
   "execution_count": null,
   "id": "53a31086-0ba0-444d-8374-a3d47db7a18f",
   "metadata": {},
   "outputs": [],
   "source": [
    "def square_root(S, epsilon): #Two args: the positive number (S) and the accuracy (epsilon) \n",
    "    \n",
    "    # Write your code here:\n",
    "    #\n",
    "    #\n",
    "    #\n",
    "    #\n",
    "    \n",
    "    return result\n",
    "\n",
    "#Example function call: print(square_root(15,0.001))"
   ]
  },
  {
   "cell_type": "markdown",
   "id": "c8263cb4-143c-4133-a45f-47d733e7d310",
   "metadata": {},
   "source": [
    "##### 4.2 Write a function that check if a given string contains every alphabet letter at least once"
   ]
  },
  {
   "cell_type": "code",
   "execution_count": null,
   "id": "dbf69ca0-c20e-4031-afb6-f8ffd3967cfa",
   "metadata": {},
   "outputs": [],
   "source": [
    "# Write your code here:\n",
    "#\n",
    "#\n",
    "#\n",
    "#"
   ]
  }
 ],
 "metadata": {
  "kernelspec": {
   "display_name": "Python 3",
   "language": "python",
   "name": "python3"
  },
  "language_info": {
   "codemirror_mode": {
    "name": "ipython",
    "version": 3
   },
   "file_extension": ".py",
   "mimetype": "text/x-python",
   "name": "python",
   "nbconvert_exporter": "python",
   "pygments_lexer": "ipython3",
   "version": "3.8.8"
  }
 },
 "nbformat": 4,
 "nbformat_minor": 5
}
