{
 "cells": [
  {
   "cell_type": "markdown",
   "id": "2732dd89-b7b0-41e7-9696-569ca0029859",
   "metadata": {},
   "source": [
    "#### 1. Python syntax: comments"
   ]
  },
  {
   "cell_type": "code",
   "execution_count": 69,
   "id": "db02b1ed-92ce-4bdd-92b6-7a77cb91d83f",
   "metadata": {},
   "outputs": [
    {
     "name": "stdout",
     "output_type": "stream",
     "text": [
      "Inline comments\n"
     ]
    }
   ],
   "source": [
    "# PEP 8 -- Style Guide for Python Code\n",
    "# https://www.python.org/dev/peps/pep-0008/\n",
    "\n",
    "# If your IDE suggests you any syntax hints that are according to PEP 8, just get it. \n",
    "\n",
    "print(\"Inline comments\") # This is inline comments\n",
    "\n",
    "# Try \"ctrl\"+\"/\" (after code selection) for multiline comments\n",
    "\n",
    "# 1\n",
    "# 2\n",
    "# 3\n",
    "# 4\n",
    "\n",
    "# Triple double and single quote(“ “ “ or ‘ ‘ ‘) are also used for multi-line comments\n"
   ]
  },
  {
   "cell_type": "markdown",
   "id": "a4b1d33f-653c-452e-b21b-b7e593320169",
   "metadata": {},
   "source": [
    "#### 2. Python syntax: indents, if else statement, for and while loops"
   ]
  },
  {
   "cell_type": "code",
   "execution_count": 3,
   "id": "69411a7e-2972-48d7-b162-e3920214afe3",
   "metadata": {},
   "outputs": [
    {
     "name": "stdout",
     "output_type": "stream",
     "text": [
      "Iteration no. 0\n",
      "Iteration no. 1\n",
      "Iteration no. 2\n",
      "Iteration no. 3\n",
      "Iteration no. 4\n",
      "Iteration no. 5\n",
      "Iteration no. 6\n",
      "Iteration no. 7\n",
      "Iteration no. 8\n",
      "Iteration no. 9\n"
     ]
    }
   ],
   "source": [
    "# # if else condition\n",
    "# flag = 2\n",
    "# if flag == True: \n",
    "#     print(\"OK\")  # every indent has 4 spaces which is equal to 1 tab\n",
    "# elif flag == 2:\n",
    "#     print(\"It is two\")\n",
    "# else:\n",
    "#     print(\"Not OK\")\n",
    "# print()   \n",
    "  \n",
    "# # for loop\n",
    "# for x in range(0,6):  # including 0 but excluding 6\n",
    "#   print(x)\n",
    "# print()\n",
    "\n",
    "\n",
    "# whle loop\n",
    "x=0\n",
    "while x < 10:\n",
    "    print(f'Iteration no. {x}') \n",
    "    x=x+1"
   ]
  },
  {
   "cell_type": "markdown",
   "id": "450bb315-515a-49ec-a7f9-a081890be7ba",
   "metadata": {},
   "source": [
    "#### 3.1 Python standard data types: int, float"
   ]
  },
  {
   "cell_type": "code",
   "execution_count": 7,
   "id": "c98a658c-36f1-4769-9264-d921254c7bb8",
   "metadata": {},
   "outputs": [
    {
     "name": "stdout",
     "output_type": "stream",
     "text": [
      "5.0 <class 'float'>\n",
      "10.0 <class 'float'>\n",
      "20.0 <class 'float'>\n",
      "40.0 <class 'float'>\n",
      "80.0 <class 'float'>\n",
      "160.0 <class 'float'>\n",
      "320.0 <class 'float'>\n",
      "640.0 <class 'float'>\n",
      "1280.0 <class 'float'>\n",
      "2560.0 <class 'float'>\n",
      "5120.0 <class 'float'>\n",
      "10240.0 <class 'float'>\n",
      "20480.0 <class 'float'>\n",
      "40960.0 <class 'float'>\n",
      "81920.0 <class 'float'>\n",
      "163840.0 <class 'float'>\n",
      "327680.0 <class 'float'>\n",
      "655360.0 <class 'float'>\n",
      "1310720.0 <class 'float'>\n",
      "2621440.0 <class 'float'>\n",
      "5242880.0 <class 'float'>\n",
      "10485760.0 <class 'float'>\n",
      "20971520.0 <class 'float'>\n",
      "41943040.0 <class 'float'>\n",
      "83886080.0 <class 'float'>\n",
      "167772160.0 <class 'float'>\n",
      "335544320.0 <class 'float'>\n",
      "671088640.0 <class 'float'>\n",
      "1342177280.0 <class 'float'>\n",
      "2684354560.0 <class 'float'>\n",
      "5368709120.0 <class 'float'>\n",
      "10737418240.0 <class 'float'>\n",
      "21474836480.0 <class 'float'>\n",
      "42949672960.0 <class 'float'>\n",
      "85899345920.0 <class 'float'>\n",
      "171798691840.0 <class 'float'>\n",
      "343597383680.0 <class 'float'>\n",
      "687194767360.0 <class 'float'>\n",
      "1374389534720.0 <class 'float'>\n",
      "2748779069440.0 <class 'float'>\n",
      "5497558138880.0 <class 'float'>\n",
      "10995116277760.0 <class 'float'>\n",
      "21990232555520.0 <class 'float'>\n",
      "43980465111040.0 <class 'float'>\n",
      "87960930222080.0 <class 'float'>\n",
      "175921860444160.0 <class 'float'>\n",
      "351843720888320.0 <class 'float'>\n",
      "703687441776640.0 <class 'float'>\n",
      "1407374883553280.0 <class 'float'>\n",
      "2814749767106560.0 <class 'float'>\n",
      "5629499534213120.0 <class 'float'>\n",
      "1.125899906842624e+16 <class 'float'>\n",
      "2.251799813685248e+16 <class 'float'>\n",
      "4.503599627370496e+16 <class 'float'>\n",
      "9.007199254740992e+16 <class 'float'>\n",
      "1.8014398509481984e+17 <class 'float'>\n",
      "3.602879701896397e+17 <class 'float'>\n",
      "7.205759403792794e+17 <class 'float'>\n",
      "1.4411518807585587e+18 <class 'float'>\n",
      "2.8823037615171174e+18 <class 'float'>\n",
      "5.764607523034235e+18 <class 'float'>\n",
      "1.152921504606847e+19 <class 'float'>\n",
      "2.305843009213694e+19 <class 'float'>\n",
      "4.611686018427388e+19 <class 'float'>\n",
      "9.223372036854776e+19 <class 'float'>\n",
      "1.844674407370955e+20 <class 'float'>\n",
      "3.68934881474191e+20 <class 'float'>\n",
      "7.37869762948382e+20 <class 'float'>\n",
      "1.475739525896764e+21 <class 'float'>\n",
      "2.951479051793528e+21 <class 'float'>\n"
     ]
    }
   ],
   "source": [
    "# # Numbers: int,float\n",
    "\n",
    "# a = 1\n",
    "# b = 1.5\n",
    "# c = -1.5\n",
    "# s = \"AGH\"\n",
    "\n",
    "# print(type(a))\n",
    "# print(type(b))\n",
    "# print(type(c))\n",
    "# print(type(s))\n",
    "\n",
    "d = 2.5\n",
    "\n",
    "for i in range(70):\n",
    "    d=d*2\n",
    "    print(d, type(d))\n",
    "\n",
    "# # In Python, integer is not restricted by the number of bits and can reach \n",
    "# # to the limit of the available memory "
   ]
  },
  {
   "cell_type": "markdown",
   "id": "75674b47-243d-4493-b40f-59a127d75d2d",
   "metadata": {},
   "source": [
    "#### 3.2 Python standard data types: string"
   ]
  },
  {
   "cell_type": "code",
   "execution_count": 94,
   "id": "cfbd1ca2-6aac-429f-b365-8e08056345b7",
   "metadata": {},
   "outputs": [
    {
     "name": "stdout",
     "output_type": "stream",
     "text": [
      "James Bond\n",
      "<class 'str'>\n"
     ]
    },
    {
     "name": "stdin",
     "output_type": "stream",
     "text": [
      "Give your input 123\n"
     ]
    },
    {
     "name": "stdout",
     "output_type": "stream",
     "text": [
      "<class 'str'>\n"
     ]
    }
   ],
   "source": [
    "# Strings\n",
    "\n",
    "name = \"James\"\n",
    "surname = \"Bond\"\n",
    "\n",
    "full = name + \" \" +surname\n",
    "\n",
    "print(full)\n",
    "print(type(full))\n",
    "\n",
    "variable = input(\"Give your input\")\n",
    "\n",
    "print(type(variable))\n"
   ]
  },
  {
   "cell_type": "markdown",
   "id": "a3fa29af-98e4-4d4a-be83-98e169bc6752",
   "metadata": {},
   "source": [
    "#### 3.3 Python standard data types: list"
   ]
  },
  {
   "cell_type": "code",
   "execution_count": 103,
   "id": "fab4a475-dc50-4649-9702-73cb03815c38",
   "metadata": {
    "tags": []
   },
   "outputs": [
    {
     "name": "stdout",
     "output_type": "stream",
     "text": [
      "<class 'list'>\n",
      "112\n",
      "['apple', 'blackberry', 'grape', 'peach']\n"
     ]
    }
   ],
   "source": [
    "# List \n",
    "# (is mutable)\n",
    "\n",
    "productsList = [\"apple\", \"banana\", \"grape\"]\n",
    "print(type(productsList))\n",
    "productsList.append(\"peach\")\n",
    "print(sys.getsizeof(productsList))\n",
    "productsList[1] = \"blackberry\"\n",
    "print(productsList)\n"
   ]
  },
  {
   "cell_type": "markdown",
   "id": "2bd74757-368a-40e1-ad94-a67f289626bb",
   "metadata": {},
   "source": [
    "#### 3.4 Python standard data types: tuples"
   ]
  },
  {
   "cell_type": "code",
   "execution_count": 101,
   "id": "9d8d270f-2a61-4ffa-98b0-ba6dd8ded3a9",
   "metadata": {},
   "outputs": [
    {
     "name": "stdout",
     "output_type": "stream",
     "text": [
      "<class 'tuple'>\n",
      "72\n"
     ]
    },
    {
     "ename": "TypeError",
     "evalue": "'tuple' object does not support item assignment",
     "output_type": "error",
     "traceback": [
      "\u001b[0;31m---------------------------------------------------------------------------\u001b[0m",
      "\u001b[0;31mTypeError\u001b[0m                                 Traceback (most recent call last)",
      "\u001b[0;32m<ipython-input-101-cd908d458cb1>\u001b[0m in \u001b[0;36m<module>\u001b[0;34m\u001b[0m\n\u001b[1;32m      6\u001b[0m \u001b[0;34m\u001b[0m\u001b[0m\n\u001b[1;32m      7\u001b[0m \u001b[0;34m\u001b[0m\u001b[0m\n\u001b[0;32m----> 8\u001b[0;31m \u001b[0mproductsTuple\u001b[0m\u001b[0;34m[\u001b[0m\u001b[0;36m1\u001b[0m\u001b[0;34m]\u001b[0m \u001b[0;34m=\u001b[0m \u001b[0;34m\"blackberry\"\u001b[0m\u001b[0;34m\u001b[0m\u001b[0;34m\u001b[0m\u001b[0m\n\u001b[0m",
      "\u001b[0;31mTypeError\u001b[0m: 'tuple' object does not support item assignment"
     ]
    }
   ],
   "source": [
    "# Tuples\n",
    "# (is not mutable)\n",
    "productsTuple = (\"apple\", \"banana\", \"grape\", \"peach\")\n",
    "print(type(productsTuple))\n",
    "print(sys.getsizeof(productsTuple))\n",
    "\n",
    "productsTuple[1] = \"blackberry\""
   ]
  },
  {
   "cell_type": "markdown",
   "id": "1fb75025-9897-42ed-8d9e-096ebef9d6db",
   "metadata": {},
   "source": [
    "#### 3.5 Python standard data types: dictionary"
   ]
  },
  {
   "cell_type": "code",
   "execution_count": 9,
   "id": "9a6a3fb3-2eac-4fcf-8ec7-c93425fdfbfd",
   "metadata": {},
   "outputs": [
    {
     "name": "stdout",
     "output_type": "stream",
     "text": [
      "12000\n",
      "{'BMW': 12000, 'Opel': 300000, 'Seat': 50600, 'Renault': '45000'}\n",
      "{'Opel': 300000, 'Seat': 50600, 'Renault': '45000'}\n",
      "{'Opel': 310000, 'Seat': 50600, 'Renault': '45000'}\n"
     ]
    }
   ],
   "source": [
    "# Dictionaries\n",
    "\n",
    "cars = {\"BMW\": 12000, \"Opel\": 300000, \"Seat\": 50600}\n",
    "\n",
    "print(cars[\"BMW\"])\n",
    "\n",
    "cars[\"Renault\"]=\"45000\"\n",
    "print(cars)\n",
    "cars.pop(\"BMW\")\n",
    "print(cars)\n",
    "\n",
    "cars[\"Opel\"]=310000\n",
    "print(cars)\n"
   ]
  },
  {
   "cell_type": "code",
   "execution_count": 15,
   "id": "8ab4c0a9-07e1-4df7-b4ee-c8af0440f5e2",
   "metadata": {},
   "outputs": [
    {
     "name": "stdout",
     "output_type": "stream",
     "text": [
      "{1, 2, 3}\n",
      "{'text', (1, 2, 3), 4}\n"
     ]
    }
   ],
   "source": [
    "# Different types of sets in Python\n",
    "# set of integers\n",
    "first_set = {1, 2, 3}\n",
    "print(first_set)\n",
    "\n",
    "# set of mixed datatypes\n",
    "second_set = {4, (1, 2, 3),\"text\"}\n",
    "print(second_set)"
   ]
  },
  {
   "cell_type": "markdown",
   "id": "7993da7f-d4df-46c7-a1ab-e4056b3776ca",
   "metadata": {},
   "source": [
    "#### 4. User defined functions"
   ]
  },
  {
   "cell_type": "code",
   "execution_count": 14,
   "id": "f9e09a7f-ba9c-49f6-98d4-4f9649952bc5",
   "metadata": {},
   "outputs": [
    {
     "name": "stdout",
     "output_type": "stream",
     "text": [
      "7.45\n",
      "<class 'float'>\n"
     ]
    }
   ],
   "source": [
    "# # This is definition of a function\n",
    "# def sum(a, b):\n",
    "#     return a+b\n",
    "\n",
    "# # Function execution for various types of input arguments\n",
    "# print(sum(1,2)) # 3\n",
    "# print(sum(2.5, 4.7)) # 7.2\n",
    "# print(sum(\"1\", \"2\")) # 12\n",
    "# print(sum([1,2,3], [10,11,34])) # [1,2,3,10,11]\n",
    "\n",
    "# Data allocation verification (to show in Pycharm)\n",
    "def sum_numbers(a: int, b: int) -> int:\n",
    "    return a+b\n",
    "\n",
    "result=sum_numbers(3,4.45)\n",
    "print(result)\n",
    "print(type(result))"
   ]
  },
  {
   "cell_type": "code",
   "execution_count": 17,
   "id": "a30a2c12-15bb-4edd-b924-30f0332aff35",
   "metadata": {},
   "outputs": [
    {
     "name": "stdout",
     "output_type": "stream",
     "text": [
      "<class 'int'>\n",
      "<class 'float'>\n",
      "<class 'list'>\n",
      "<class 'tuple'>\n",
      "<class 'set'>\n",
      "<class 'dict'>\n",
      "<class 'str'>\n",
      "<class 'bool'>\n"
     ]
    }
   ],
   "source": [
    "a = 1\n",
    "b = 1.5\n",
    "c = [1,2,3]\n",
    "d = (1,2,3)\n",
    "e = {1,2,3}\n",
    "f = {\"one\":1, \"two\":2, \"three\":3}\n",
    "g = \"AGH\"\n",
    "h = True\n",
    "\n",
    "print(type(a))\n",
    "print(type(b))\n",
    "print(type(c))\n",
    "print(type(d))\n",
    "print(type(e))\n",
    "print(type(f))\n",
    "print(type(g))\n",
    "print(type(h))"
   ]
  },
  {
   "cell_type": "code",
   "execution_count": null,
   "id": "e79badeb-635b-43d1-80fb-3dc5722ae8bb",
   "metadata": {},
   "outputs": [],
   "source": [
    "sum()"
   ]
  }
 ],
 "metadata": {
  "kernelspec": {
   "display_name": "Python 3",
   "language": "python",
   "name": "python3"
  },
  "language_info": {
   "codemirror_mode": {
    "name": "ipython",
    "version": 3
   },
   "file_extension": ".py",
   "mimetype": "text/x-python",
   "name": "python",
   "nbconvert_exporter": "python",
   "pygments_lexer": "ipython3",
   "version": "3.8.8"
  }
 },
 "nbformat": 4,
 "nbformat_minor": 5
}
